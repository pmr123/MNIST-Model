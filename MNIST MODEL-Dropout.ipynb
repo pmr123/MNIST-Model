{
 "cells": [
  {
   "cell_type": "markdown",
   "metadata": {},
   "source": [
    "## Description\n",
    "+ DATA Flow:\n",
    "\n",
    "  We take one example at a time for forward feed and update parameters(weights)\n",
    "  only if prediction is wrong\n",
    "\n",
    "\n",
    "+ MODEL Architecture:\n",
    "\n",
    "  It has a Weight matrix of size 6x10x784\n",
    "  We perform Matrix - Vector multiplication i.e. W 10x784 with X 784(data/example)\n",
    "  \n",
    "  for six slices of our weight matrix , followed by adding the result of each slice \n",
    "  for each class respectively\n",
    "  \n",
    "  Alternate Dropout for Weight matrix slices is used\n",
    "  \n",
    "  Accuracy is tested for data which model has not seen\n",
    "\n",
    "### Some extras\n",
    " - Weights Matrix slices for each digit can be visualized after training by calling\n",
    "     weights_trained()\n",
    " - Accuracy can also be tested by calling\n",
    "     acc_test"
   ]
  },
  {
   "cell_type": "code",
   "execution_count": 1,
   "metadata": {},
   "outputs": [],
   "source": [
    "import numpy as np\n",
    "import pandas as pd\n",
    "import matplotlib.pyplot as plt\n",
    "%matplotlib inline\n",
    "from sklearn.preprocessing import MinMaxScaler\n",
    "np.random.seed(101)  # Randomness Ceased for Coding Purpose"
   ]
  },
  {
   "cell_type": "markdown",
   "metadata": {},
   "source": [
    "### Training Data Preprocessing "
   ]
  },
  {
   "cell_type": "code",
   "execution_count": 2,
   "metadata": {},
   "outputs": [],
   "source": [
    "# Importing Training Data\n",
    "df = pd.read_csv(\"mnist_train.csv\")"
   ]
  },
  {
   "cell_type": "code",
   "execution_count": 3,
   "metadata": {},
   "outputs": [],
   "source": [
    "# Separating Labels and Features\n",
    "x = np.array(df.loc[:, df.columns != 'Label'])\n",
    "x_data = x.transpose()\n",
    "# x_data.shape   >>> (784, 60000)\n",
    "y = np.array(df.loc[:, df.columns == 'Label'])\n",
    "# y.shape        >>> (60000, 1)"
   ]
  },
  {
   "cell_type": "code",
   "execution_count": 4,
   "metadata": {},
   "outputs": [],
   "source": [
    "# One hot Encoding\n",
    "y_label = np.zeros((10,60000),np.float32)\n",
    "for i in range(60000):\n",
    "    for j in range(10):\n",
    "        if y[i,0] == j:\n",
    "            y_label[j,i] = int(1)"
   ]
  },
  {
   "cell_type": "code",
   "execution_count": 5,
   "metadata": {},
   "outputs": [
    {
     "name": "stderr",
     "output_type": "stream",
     "text": [
      "C:\\Users\\Sameer\\Anaconda3\\envs\\Tensor\\lib\\site-packages\\sklearn\\utils\\validation.py:475: DataConversionWarning: Data with input dtype int64 was converted to float64 by MinMaxScaler.\n",
      "  warnings.warn(msg, DataConversionWarning)\n"
     ]
    }
   ],
   "source": [
    "# Scaling Data\n",
    "scale = MinMaxScaler()\n",
    "x_data_Scaled = scale.fit_transform(x_data)"
   ]
  },
  {
   "cell_type": "markdown",
   "metadata": {},
   "source": [
    "### Test Data Preprocessing"
   ]
  },
  {
   "cell_type": "code",
   "execution_count": 6,
   "metadata": {},
   "outputs": [],
   "source": [
    "# Importing Training Data\n",
    "df = pd.read_csv(\"mnist_test.csv\")"
   ]
  },
  {
   "cell_type": "code",
   "execution_count": 7,
   "metadata": {},
   "outputs": [],
   "source": [
    "# Separating Labels and Features\n",
    "x_test = np.array(df.loc[:, df.columns != 'Label'])\n",
    "x_test = x_test.transpose()\n",
    "#x_test.shape   >>> (784, 10000)\n",
    "y_test = np.array(df.loc[:, df.columns == 'Label'])\n",
    "#y_test.shape   >>> (10000, 1)"
   ]
  },
  {
   "cell_type": "code",
   "execution_count": 8,
   "metadata": {},
   "outputs": [],
   "source": [
    "# One hot Encoding\n",
    "y_label_test = np.zeros((10,10000),np.float32)\n",
    "for i in range(10000):\n",
    "    for j in range(10):\n",
    "        if y_test[i,0] == j:\n",
    "            y_label_test[j,i] = int(1)"
   ]
  },
  {
   "cell_type": "code",
   "execution_count": 9,
   "metadata": {},
   "outputs": [
    {
     "name": "stderr",
     "output_type": "stream",
     "text": [
      "C:\\Users\\Sameer\\Anaconda3\\envs\\Tensor\\lib\\site-packages\\sklearn\\utils\\validation.py:475: DataConversionWarning: Data with input dtype int64 was converted to float64 by MinMaxScaler.\n",
      "  warnings.warn(msg, DataConversionWarning)\n"
     ]
    }
   ],
   "source": [
    "# Scaling Data\n",
    "x_test_Scaled = scale.fit_transform(x_test)"
   ]
  },
  {
   "cell_type": "markdown",
   "metadata": {},
   "source": [
    "### Finished preprocessing"
   ]
  },
  {
   "cell_type": "markdown",
   "metadata": {},
   "source": [
    "\n",
    "\n",
    "## Model"
   ]
  },
  {
   "cell_type": "code",
   "execution_count": 10,
   "metadata": {},
   "outputs": [],
   "source": [
    "np.random.seed(101)  # Randomness Ceased for Coding Purpose\n",
    "#w = np.ones((6,10,784))*1.0  #For weight templates with less noise\n",
    "w = np.random.random((6,10,784)) + 0.0005    # Randomly Initializing Weights\n",
    "w[0,:,:] = w[0,:,:]*(-1)\n",
    "w[1,:,:] = w[1,:,:]*(-1)\n",
    "b = np.ones(10)      # Bias set to 1 for each class\n",
    "_LOSS_ = []                 # List to record Loss\n",
    "epochs = 40000        #int(input(\"Enter number of epochs: \"))"
   ]
  },
  {
   "cell_type": "code",
   "execution_count": 11,
   "metadata": {},
   "outputs": [],
   "source": [
    "# Provides prediction for nth example\n",
    "def predict(n):\n",
    "    #det = np.sum(det,axis=1,keepdims=True)\n",
    "    p_hat = np.ones((10,6))  # Temporary 2D Predicted Score Matrix\n",
    "    for bx in range(6):\n",
    "        p_hat[:,bx] = np.matmul(w[bx,:,:],x_test_Scaled[:,n]) + b  #Operating on nth index example for a slice of weight matrix\n",
    "    p_hat = np.sum(p_hat,axis=1)      # Generating a 1D Predicted Score Matrix\n",
    "    p_predict = np.argmax(p_hat)      # Grabbing Predicted Number (index)\n",
    "    p_true = np.argmax(y_label_test[:,n])  # Grabbing True Number (index)\n",
    "    return p_predict , p_true"
   ]
  },
  {
   "cell_type": "code",
   "execution_count": 12,
   "metadata": {},
   "outputs": [],
   "source": [
    "def acc_test():\n",
    "    k=0\n",
    "    for i in range (10000):\n",
    "        p1 , p2 = predict(i)\n",
    "        if p1==p2:\n",
    "            k=k+1\n",
    "    print(\"Accuracy is now \",\"%0.2f\"%(100*(k/10000)),'%') #Currently set for Entire Data Set of Test i.e. 10000\n",
    "    return 100*(k/10000)"
   ]
  },
  {
   "cell_type": "code",
   "execution_count": 13,
   "metadata": {},
   "outputs": [],
   "source": [
    "# Calculates Loss\n",
    "def softmax_Loss(y_hat,y,w):\n",
    "    #y_hat = y_hat/((np.matmul(y_hat,y_hat))**0.5) # Just making Unit Vectors (to be verified)\n",
    "    y_hat = y_hat/np.max(y_hat)  # >.< Sudo normalization\n",
    "    y_hat = np.exp(y_hat)        #\n",
    "    j = np.argmax(y)\n",
    "    loss = -np.log(y_hat[j]/(np.sum(y_hat)))\n",
    "    \n",
    "    return loss , j , np.sum(y_hat)"
   ]
  },
  {
   "cell_type": "code",
   "execution_count": 14,
   "metadata": {},
   "outputs": [],
   "source": [
    "# Function to update Weights \n",
    "def parameter_update(w,j,x,s,p_la,ep):\n",
    "    l_rate = 0.001 #Learning Rate if 0.0005?\n",
    "    if(j!=p_la):  # Due to this if-else updation happens iff prediction is wrong\n",
    "        if(ep%2==0):  # Alternate slice of weight matrix updated\n",
    "            ls = [0,2,4]                           #ls is just an identifier\n",
    "            for be in ls:\n",
    "                for i in range(784):  \n",
    "                    w[be,j,i] -= l_rate*(-x[i]+((x[i]*np.exp(w[be,j,i]))/s))\n",
    "        else:\n",
    "            ls = [1,3,5]\n",
    "            for be in ls:\n",
    "                for i in range(784):  \n",
    "                    w[be,j,i] -= l_rate*(-x[i]+((x[i]*np.exp(w[be,j,i]))/s))\n",
    "        ep += 1 # For alternate dropout \n",
    "    return w , ep"
   ]
  },
  {
   "cell_type": "code",
   "execution_count": 15,
   "metadata": {},
   "outputs": [
    {
     "name": "stdout",
     "output_type": "stream",
     "text": [
      "Epoch count = 0\n",
      "Accuracy is now  6.30 %\n",
      "Epoch count = 200\n",
      "Accuracy is now  7.07 %\n",
      "Epoch count = 400\n",
      "Accuracy is now  7.99 %\n",
      "Epoch count = 600\n",
      "Accuracy is now  9.10 %\n",
      "Epoch count = 800\n",
      "Accuracy is now  10.61 %\n",
      "Epoch count = 1000\n",
      "Accuracy is now  11.98 %\n",
      "Epoch count = 1200\n",
      "Accuracy is now  14.15 %\n",
      "Epoch count = 1400\n",
      "Accuracy is now  16.53 %\n",
      "Epoch count = 1600\n",
      "Accuracy is now  18.69 %\n",
      "Epoch count = 1800\n",
      "Accuracy is now  21.93 %\n",
      "Epoch count = 2000\n",
      "Accuracy is now  24.54 %\n",
      "Epoch count = 2200\n",
      "Accuracy is now  27.31 %\n",
      "Epoch count = 2400\n",
      "Accuracy is now  29.59 %\n",
      "Epoch count = 2600\n",
      "Accuracy is now  31.93 %\n",
      "Epoch count = 2800\n",
      "Accuracy is now  33.97 %\n",
      "Epoch count = 3000\n",
      "Accuracy is now  35.98 %\n",
      "Epoch count = 3200\n",
      "Accuracy is now  39.19 %\n",
      "Epoch count = 3400\n",
      "Accuracy is now  40.60 %\n",
      "Epoch count = 3600\n",
      "Accuracy is now  42.56 %\n",
      "Epoch count = 3800\n",
      "Accuracy is now  43.97 %\n",
      "Epoch count = 4000\n",
      "Accuracy is now  45.08 %\n",
      "Epoch count = 4200\n",
      "Accuracy is now  46.52 %\n",
      "Epoch count = 4400\n",
      "Accuracy is now  48.03 %\n",
      "Epoch count = 4600\n",
      "Accuracy is now  49.15 %\n",
      "Epoch count = 4800\n",
      "Accuracy is now  49.98 %\n",
      "Epoch count = 5000\n",
      "Accuracy is now  51.69 %\n",
      "Epoch count = 5200\n",
      "Accuracy is now  52.64 %\n",
      "Epoch count = 5400\n",
      "Accuracy is now  53.38 %\n",
      "Epoch count = 5600\n",
      "Accuracy is now  53.86 %\n",
      "Epoch count = 5800\n",
      "Accuracy is now  53.86 %\n",
      "Epoch count = 6000\n",
      "Accuracy is now  54.21 %\n",
      "Epoch count = 6200\n",
      "Accuracy is now  54.49 %\n",
      "Epoch count = 6400\n",
      "Accuracy is now  55.08 %\n",
      "Epoch count = 6600\n",
      "Accuracy is now  55.70 %\n",
      "Epoch count = 6800\n",
      "Accuracy is now  55.84 %\n",
      "Epoch count = 7000\n",
      "Accuracy is now  57.06 %\n",
      "Epoch count = 7200\n",
      "Accuracy is now  57.10 %\n",
      "Epoch count = 7400\n",
      "Accuracy is now  57.35 %\n",
      "Epoch count = 7600\n",
      "Accuracy is now  58.13 %\n",
      "Epoch count = 7800\n",
      "Accuracy is now  59.46 %\n",
      "Epoch count = 8000\n",
      "Accuracy is now  59.59 %\n",
      "Epoch count = 8200\n",
      "Accuracy is now  60.29 %\n",
      "Epoch count = 8400\n",
      "Accuracy is now  61.70 %\n",
      "Epoch count = 8600\n",
      "Accuracy is now  62.97 %\n",
      "Epoch count = 8800\n",
      "Accuracy is now  63.01 %\n",
      "Epoch count = 9000\n",
      "Accuracy is now  64.55 %\n",
      "Epoch count = 9200\n",
      "Accuracy is now  64.42 %\n",
      "Epoch count = 9400\n",
      "Accuracy is now  64.48 %\n",
      "Epoch count = 9600\n",
      "Accuracy is now  65.39 %\n",
      "Epoch count = 9800\n",
      "Accuracy is now  65.19 %\n",
      "Epoch count = 10000\n",
      "Accuracy is now  64.97 %\n",
      "Epoch count = 10200\n",
      "Accuracy is now  65.66 %\n",
      "Epoch count = 10400\n",
      "Accuracy is now  67.16 %\n",
      "Epoch count = 10600\n",
      "Accuracy is now  67.24 %\n",
      "Epoch count = 10800\n",
      "Accuracy is now  67.01 %\n",
      "Epoch count = 11000\n",
      "Accuracy is now  67.47 %\n",
      "Epoch count = 11200\n",
      "Accuracy is now  68.25 %\n",
      "Epoch count = 11400\n",
      "Accuracy is now  68.80 %\n",
      "Epoch count = 11600\n",
      "Accuracy is now  69.14 %\n",
      "Epoch count = 11800\n",
      "Accuracy is now  68.66 %\n",
      "Epoch count = 12000\n",
      "Accuracy is now  68.55 %\n",
      "Epoch count = 12200\n",
      "Accuracy is now  68.20 %\n",
      "Epoch count = 12400\n",
      "Accuracy is now  68.38 %\n",
      "Epoch count = 12600\n",
      "Accuracy is now  68.92 %\n",
      "Epoch count = 12800\n",
      "Accuracy is now  68.44 %\n",
      "Epoch count = 13000\n",
      "Accuracy is now  68.49 %\n",
      "Epoch count = 13200\n",
      "Accuracy is now  67.95 %\n",
      "Epoch count = 13400\n",
      "Accuracy is now  68.11 %\n",
      "Epoch count = 13600\n",
      "Accuracy is now  68.13 %\n",
      "Epoch count = 13800\n",
      "Accuracy is now  68.55 %\n",
      "Epoch count = 14000\n",
      "Accuracy is now  68.80 %\n",
      "Epoch count = 14200\n",
      "Accuracy is now  68.79 %\n",
      "Epoch count = 14400\n",
      "Accuracy is now  69.21 %\n",
      "Epoch count = 14600\n",
      "Accuracy is now  69.54 %\n",
      "Epoch count = 14800\n",
      "Accuracy is now  70.14 %\n",
      "Epoch count = 15000\n",
      "Accuracy is now  70.29 %\n",
      "Epoch count = 15200\n",
      "Accuracy is now  71.02 %\n",
      "Epoch count = 15400\n",
      "Accuracy is now  71.42 %\n",
      "Epoch count = 15600\n",
      "Accuracy is now  71.40 %\n",
      "Epoch count = 15800\n",
      "Accuracy is now  71.63 %\n",
      "Epoch count = 16000\n",
      "Accuracy is now  71.68 %\n",
      "Epoch count = 16200\n",
      "Accuracy is now  71.30 %\n",
      "Epoch count = 16400\n",
      "Accuracy is now  72.05 %\n",
      "Epoch count = 16600\n",
      "Accuracy is now  72.34 %\n",
      "Epoch count = 16800\n",
      "Accuracy is now  72.78 %\n",
      "Epoch count = 17000\n",
      "Accuracy is now  73.09 %\n",
      "Epoch count = 17200\n",
      "Accuracy is now  73.28 %\n",
      "Epoch count = 17400\n",
      "Accuracy is now  73.17 %\n",
      "Epoch count = 17600\n",
      "Accuracy is now  73.26 %\n",
      "Epoch count = 17800\n",
      "Accuracy is now  72.84 %\n",
      "Epoch count = 18000\n",
      "Accuracy is now  73.95 %\n",
      "Epoch count = 18200\n",
      "Accuracy is now  73.88 %\n",
      "Epoch count = 18400\n",
      "Accuracy is now  74.44 %\n",
      "Epoch count = 18600\n",
      "Accuracy is now  74.92 %\n",
      "Epoch count = 18800\n",
      "Accuracy is now  75.22 %\n",
      "Epoch count = 19000\n",
      "Accuracy is now  75.62 %\n",
      "Epoch count = 19200\n",
      "Accuracy is now  75.68 %\n",
      "Epoch count = 19400\n",
      "Accuracy is now  75.67 %\n",
      "Epoch count = 19600\n",
      "Accuracy is now  75.73 %\n",
      "Epoch count = 19800\n",
      "Accuracy is now  75.36 %\n",
      "Epoch count = 20000\n",
      "Accuracy is now  75.01 %\n",
      "Epoch count = 20200\n",
      "Accuracy is now  74.90 %\n",
      "Epoch count = 20400\n",
      "Accuracy is now  75.78 %\n",
      "Epoch count = 20600\n",
      "Accuracy is now  76.04 %\n",
      "Epoch count = 20800\n",
      "Accuracy is now  75.61 %\n",
      "Epoch count = 21000\n",
      "Accuracy is now  75.91 %\n",
      "Epoch count = 21200\n",
      "Accuracy is now  75.86 %\n",
      "Epoch count = 21400\n",
      "Accuracy is now  75.89 %\n",
      "Epoch count = 21600\n",
      "Accuracy is now  75.85 %\n",
      "Epoch count = 21800\n",
      "Accuracy is now  76.37 %\n",
      "Epoch count = 22000\n",
      "Accuracy is now  76.89 %\n",
      "Epoch count = 22200\n",
      "Accuracy is now  76.71 %\n",
      "Epoch count = 22400\n",
      "Accuracy is now  76.78 %\n",
      "Epoch count = 22600\n",
      "Accuracy is now  76.89 %\n",
      "Epoch count = 22800\n",
      "Accuracy is now  76.78 %\n",
      "Epoch count = 23000\n",
      "Accuracy is now  76.56 %\n",
      "Epoch count = 23200\n",
      "Accuracy is now  76.74 %\n",
      "Epoch count = 23400\n",
      "Accuracy is now  76.51 %\n",
      "Epoch count = 23600\n",
      "Accuracy is now  76.42 %\n",
      "Epoch count = 23800\n",
      "Accuracy is now  76.54 %\n",
      "Epoch count = 24000\n",
      "Accuracy is now  76.37 %\n",
      "Epoch count = 24200\n",
      "Accuracy is now  76.77 %\n",
      "Epoch count = 24400\n",
      "Accuracy is now  76.56 %\n",
      "Epoch count = 24600\n",
      "Accuracy is now  76.26 %\n",
      "Epoch count = 24800\n",
      "Accuracy is now  76.51 %\n",
      "Epoch count = 25000\n",
      "Accuracy is now  77.00 %\n",
      "Epoch count = 25200\n",
      "Accuracy is now  77.11 %\n",
      "Epoch count = 25400\n",
      "Accuracy is now  77.45 %\n",
      "Epoch count = 25600\n",
      "Accuracy is now  77.29 %\n",
      "Epoch count = 25800\n",
      "Accuracy is now  77.44 %\n",
      "Epoch count = 26000\n",
      "Accuracy is now  77.37 %\n",
      "Epoch count = 26200\n",
      "Accuracy is now  77.68 %\n",
      "Epoch count = 26400\n",
      "Accuracy is now  77.75 %\n",
      "Epoch count = 26600\n",
      "Accuracy is now  78.08 %\n",
      "Epoch count = 26800\n",
      "Accuracy is now  78.42 %\n",
      "Epoch count = 27000\n",
      "Accuracy is now  78.24 %\n",
      "Epoch count = 27200\n",
      "Accuracy is now  78.09 %\n",
      "Epoch count = 27400\n",
      "Accuracy is now  77.91 %\n",
      "Epoch count = 27600\n",
      "Accuracy is now  77.75 %\n",
      "Epoch count = 27800\n",
      "Accuracy is now  78.00 %\n",
      "Epoch count = 28000\n",
      "Accuracy is now  78.17 %\n",
      "Epoch count = 28200\n",
      "Accuracy is now  78.53 %\n",
      "Epoch count = 28400\n",
      "Accuracy is now  78.33 %\n",
      "Epoch count = 28600\n",
      "Accuracy is now  78.23 %\n",
      "Epoch count = 28800\n",
      "Accuracy is now  78.24 %\n",
      "Epoch count = 29000\n",
      "Accuracy is now  78.23 %\n",
      "Epoch count = 29200\n",
      "Accuracy is now  78.32 %\n",
      "Epoch count = 29400\n",
      "Accuracy is now  78.65 %\n",
      "Epoch count = 29600\n",
      "Accuracy is now  78.79 %\n",
      "Epoch count = 29800\n",
      "Accuracy is now  79.00 %\n",
      "Epoch count = 30000\n",
      "Accuracy is now  79.09 %\n",
      "Epoch count = 30200\n",
      "Accuracy is now  79.57 %\n",
      "Epoch count = 30400\n",
      "Accuracy is now  79.78 %\n",
      "Epoch count = 30600\n",
      "Accuracy is now  79.78 %\n",
      "Epoch count = 30800\n",
      "Accuracy is now  79.81 %\n",
      "Epoch count = 31000\n",
      "Accuracy is now  80.10 %\n",
      "Epoch count = 31200\n",
      "Accuracy is now  79.83 %\n",
      "Epoch count = 31400\n",
      "Accuracy is now  79.91 %\n",
      "Epoch count = 31600\n",
      "Accuracy is now  80.03 %\n",
      "Epoch count = 31800\n",
      "Accuracy is now  80.03 %\n",
      "Epoch count = 32000\n",
      "Accuracy is now  79.93 %\n",
      "Epoch count = 32200\n",
      "Accuracy is now  80.35 %\n",
      "Epoch count = 32400\n",
      "Accuracy is now  80.44 %\n",
      "Epoch count = 32600\n",
      "Accuracy is now  80.56 %\n",
      "Epoch count = 32800\n",
      "Accuracy is now  80.50 %\n",
      "Epoch count = 33000\n",
      "Accuracy is now  80.37 %\n",
      "Epoch count = 33200\n",
      "Accuracy is now  80.12 %\n",
      "Epoch count = 33400\n",
      "Accuracy is now  79.97 %\n",
      "Epoch count = 33600\n",
      "Accuracy is now  80.09 %\n",
      "Epoch count = 33800\n",
      "Accuracy is now  80.05 %\n",
      "Epoch count = 34000\n",
      "Accuracy is now  80.19 %\n",
      "Epoch count = 34200\n",
      "Accuracy is now  80.31 %\n",
      "Epoch count = 34400\n",
      "Accuracy is now  80.43 %\n",
      "Epoch count = 34600\n",
      "Accuracy is now  80.07 %\n",
      "Epoch count = 34800\n",
      "Accuracy is now  80.05 %\n",
      "Epoch count = 35000\n",
      "Accuracy is now  80.29 %\n",
      "Epoch count = 35200\n",
      "Accuracy is now  80.31 %\n",
      "Epoch count = 35400\n",
      "Accuracy is now  80.29 %\n",
      "Epoch count = 35600\n",
      "Accuracy is now  80.54 %\n",
      "Epoch count = 35800\n",
      "Accuracy is now  80.66 %\n",
      "Epoch count = 36000\n",
      "Accuracy is now  80.63 %\n",
      "Epoch count = 36200\n",
      "Accuracy is now  80.55 %\n",
      "Epoch count = 36400\n",
      "Accuracy is now  80.57 %\n",
      "Epoch count = 36600\n"
     ]
    },
    {
     "name": "stdout",
     "output_type": "stream",
     "text": [
      "Accuracy is now  80.57 %\n",
      "Epoch count = 36800\n",
      "Accuracy is now  80.78 %\n",
      "Epoch count = 37000\n",
      "Accuracy is now  80.85 %\n",
      "Epoch count = 37200\n",
      "Accuracy is now  80.91 %\n",
      "Epoch count = 37400\n",
      "Accuracy is now  80.74 %\n",
      "Epoch count = 37600\n",
      "Accuracy is now  80.65 %\n",
      "Epoch count = 37800\n",
      "Accuracy is now  80.44 %\n",
      "Epoch count = 38000\n",
      "Accuracy is now  80.72 %\n",
      "Epoch count = 38200\n",
      "Accuracy is now  81.01 %\n",
      "Epoch count = 38400\n",
      "Accuracy is now  81.04 %\n",
      "Epoch count = 38600\n",
      "Accuracy is now  81.17 %\n",
      "Epoch count = 38800\n",
      "Accuracy is now  81.09 %\n",
      "Epoch count = 39000\n",
      "Accuracy is now  80.96 %\n",
      "Epoch count = 39200\n",
      "Accuracy is now  80.87 %\n",
      "Epoch count = 39400\n",
      "Accuracy is now  80.93 %\n",
      "Epoch count = 39600\n",
      "Accuracy is now  81.20 %\n",
      "Epoch count = 39800\n",
      "Accuracy is now  81.43 %\n"
     ]
    }
   ],
   "source": [
    "#In this Block all model layers and functions are called\n",
    "y_hat = np.random.random((10,6))\n",
    "acc_list = []\n",
    "ep_count = 0\n",
    "count = 0  #related to ep identifier in param..update fn\n",
    "for i in range(epochs):\n",
    "    x = x_data_Scaled[:,i]  # Took ith sample\n",
    "    y = y_label[:,i]        # Took true label column of ith sample\n",
    "    for new in range(6):\n",
    "        y_hat[:,new] = np.matmul(w[new,:,:],x) #+ b    # Operation\n",
    "    score = np.sum(y_hat,axis=1)\n",
    "    loss , j , s = softmax_Loss(score,y,w)  # Function Call to calculate Loss\n",
    "    _LOSS_.append(loss)\n",
    "\n",
    "    w , count= parameter_update(w,j,x,s,np.argmax(score),count)  \n",
    "    if(i%200==0):\n",
    "        print(\"Epoch count = \"+str(i))\n",
    "        al = acc_test()\n",
    "        acc_list.append(al)\n",
    "        ep_count += 1"
   ]
  },
  {
   "cell_type": "markdown",
   "metadata": {},
   "source": [
    "Training Complete"
   ]
  },
  {
   "cell_type": "markdown",
   "metadata": {},
   "source": [
    "## Visualization  (Extras)"
   ]
  },
  {
   "cell_type": "code",
   "execution_count": 16,
   "metadata": {},
   "outputs": [],
   "source": [
    "#Plotting of Loss was not of Great help\n",
    "#plt.plot(list(range(epochs)),_LOSS_)"
   ]
  },
  {
   "cell_type": "code",
   "execution_count": 17,
   "metadata": {},
   "outputs": [
    {
     "data": {
      "text/plain": [
       "Text(0,0.5,'Accuracy')"
      ]
     },
     "execution_count": 17,
     "metadata": {},
     "output_type": "execute_result"
    },
    {
     "data": {
      "image/png": "[encoded data removed]",
      "text/plain": [
       "<Figure size 432x288 with 1 Axes>"
      ]
     },
     "metadata": {},
     "output_type": "display_data"
    }
   ],
   "source": [
    "plt.plot(list(range(ep_count)),acc_list)\n",
    "plt.xlabel(\"x200 epochs\")\n",
    "plt.ylabel(\"Accuracy\")"
   ]
  },
  {
   "cell_type": "code",
   "execution_count": 18,
   "metadata": {},
   "outputs": [],
   "source": [
    "# To visualize Template of each Number\n",
    "def weights_trained():\n",
    "    no = int(input(\"Enter a digit 0-9: \"))\n",
    "    sli = int(input(\"Enter a slice 0-5: \"))\n",
    "    plt.imshow(w[sli,no,:].reshape(28,28),cmap='gray')"
   ]
  },
  {
   "cell_type": "code",
   "execution_count": 19,
   "metadata": {
    "scrolled": true
   },
   "outputs": [
    {
     "name": "stdout",
     "output_type": "stream",
     "text": [
      "Enter a digit 0-9: 8\n",
      "Enter a slice 0-5: 2\n"
     ]
    },
    {
     "data": {
      "image/png": "[encoded data removed]",
      "text/plain": [
       "<Figure size 432x288 with 1 Axes>"
      ]
     },
     "metadata": {},
     "output_type": "display_data"
    }
   ],
   "source": [
    "#Learned weights after training (one slice is displayed at a time REMEMBER w.shape is 10x784x6)\n",
    "weights_trained()   "
   ]
  },
  {
   "cell_type": "code",
   "execution_count": 20,
   "metadata": {},
   "outputs": [],
   "source": [
    "#Weight matrix can be made clearer by initializing weights as ones"
   ]
  },
  {
   "cell_type": "code",
   "execution_count": 21,
   "metadata": {},
   "outputs": [],
   "source": [
    "#Following function expects a 1D or 2D matrix\n",
    "#np.savetxt(\"trained weights.csv\",w,delimiter=',')"
   ]
  }
 ],
 "metadata": {
  "kernelspec": {
   "display_name": "Python 3",
   "language": "python",
   "name": "python3"
  },
  "language_info": {
   "codemirror_mode": {
    "name": "ipython",
    "version": 3
   },
   "file_extension": ".py",
   "mimetype": "text/x-python",
   "name": "python",
   "nbconvert_exporter": "python",
   "pygments_lexer": "ipython3",
   "version": "3.6.5"
  }
 },
 "nbformat": 4,
 "nbformat_minor": 2
}
