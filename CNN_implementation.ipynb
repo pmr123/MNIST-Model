{
 "cells": [
  {
   "cell_type": "code",
   "execution_count": 1,
   "metadata": {},
   "outputs": [],
   "source": [
    "import numpy as np\n",
    "import matplotlib.pyplot as plt\n",
    "import pandas as pd\n",
    "%matplotlib inline\n",
    "from sklearn.preprocessing import MinMaxScaler"
   ]
  },
  {
   "cell_type": "markdown",
   "metadata": {},
   "source": [
    "### Training Data Preprocessing "
   ]
  },
  {
   "cell_type": "code",
   "execution_count": 2,
   "metadata": {},
   "outputs": [],
   "source": [
    "# Importing Training Data\n",
    "df = pd.read_csv(\"C:\\\\Users\\\\Sameer\\\\Desktop\\\\CNN\\\\mnist_train.csv\")"
   ]
  },
  {
   "cell_type": "code",
   "execution_count": 3,
   "metadata": {},
   "outputs": [],
   "source": [
    "# Separating Labels and Features\n",
    "x = np.array(df.loc[:, df.columns != 'Label'])\n",
    "x_data = x.transpose()\n",
    "# x_data.shape   >>> (784, 60000)\n",
    "y = np.array(df.loc[:, df.columns == 'Label'])\n",
    "# y.shape        >>> (60000, 1)"
   ]
  },
  {
   "cell_type": "code",
   "execution_count": 4,
   "metadata": {},
   "outputs": [],
   "source": [
    "# One hot Encoding\n",
    "y_label = np.zeros((10,60000),np.float32)\n",
    "for i in range(60000):\n",
    "    for j in range(10):\n",
    "        if y[i,0] == j:\n",
    "            y_label[j,i] = int(1)"
   ]
  },
  {
   "cell_type": "code",
   "execution_count": 5,
   "metadata": {},
   "outputs": [
    {
     "name": "stderr",
     "output_type": "stream",
     "text": [
      "C:\\Users\\Sameer\\Anaconda3\\envs\\Tensor\\lib\\site-packages\\sklearn\\utils\\validation.py:475: DataConversionWarning: Data with input dtype int64 was converted to float64 by MinMaxScaler.\n",
      "  warnings.warn(msg, DataConversionWarning)\n"
     ]
    }
   ],
   "source": [
    "# Scaling Data\n",
    "scale = MinMaxScaler()\n",
    "x_data_Scaled = scale.fit_transform(x_data)"
   ]
  },
  {
   "cell_type": "markdown",
   "metadata": {},
   "source": [
    "# Model"
   ]
  },
  {
   "cell_type": "code",
   "execution_count": 6,
   "metadata": {},
   "outputs": [],
   "source": [
    "def conv_made(data,kernel,st_h,st_v):\n",
    "    h , w = data.shape\n",
    "    a_ , b_ = kernel.shape\n",
    "    hh = int((h - a_)/st_v +1)\n",
    "    ww = int((w - b_)/st_h+1)\n",
    "    op = np.zeros((hh,ww))\n",
    "    temp = np.arange(b_)\n",
    "    for l in range(hh):   \n",
    "            for m in range(ww):  \n",
    "                for i in range(a_):\n",
    "                    temp[i]= np.matmul(data[st_v*l+i,st_h*m:st_h*m+b_],kernel[i])\n",
    "                op[l,m] = np.sum(temp)\n",
    "    return op"
   ]
  },
  {
   "cell_type": "code",
   "execution_count": 8,
   "metadata": {},
   "outputs": [],
   "source": [
    "#Filters\n",
    "f_1_1  = np.random.random((6,6)) + 0.001\n",
    "f_1_2  = np.random.random((6,6)) + 0.002\n",
    "f_1_3  = np.random.random((6,6)) + 0.003\n",
    "f_1_4  = np.random.random((6,6)) + 0.0022\n",
    "f_1_5  = np.random.random((6,6)) + 0.0025"
   ]
  },
  {
   "cell_type": "code",
   "execution_count": 10,
   "metadata": {},
   "outputs": [],
   "source": [
    "f_1 = [f_1_1 ,f_1_2 ,f_1_3 ,f_1_4 ,f_1_5]\n",
    "w = np.random.random((10,144,5)) + 0.01"
   ]
  },
  {
   "cell_type": "code",
   "execution_count": 11,
   "metadata": {},
   "outputs": [],
   "source": [
    "# Provides prediction for nth example\n",
    "def predict(n):\n",
    "    i = 0\n",
    "    q_ = np.ones((12,12,5)) \n",
    "    for f in f_1:                 # Operating on nth index example\n",
    "        q_[:,:,i]  =  conv_made(x_data_Scaled[:,n].reshape(28,28),f,2,2)\n",
    "        i += 1 \n",
    "    tempp = np.zeros((10,5))\n",
    "    for i in range(5):\n",
    "        tempp[:,i] = np.matmul(w[:,:,i],q_[:,:,i].reshape(144))\n",
    "    p_hat = np.sum(tempp,axis=1)\n",
    "    \n",
    "    \n",
    "    p_predict = np.argmax(p_hat)      # Grabbing Predicted Number\n",
    "    p_true = np.argmax(y_label[:,n])  # Grabbing True Number\n",
    "    return p_predict , p_true"
   ]
  },
  {
   "cell_type": "code",
   "execution_count": 12,
   "metadata": {},
   "outputs": [],
   "source": [
    "def accuracy():\n",
    "    kl=0\n",
    "    for i in range (55000,55500):\n",
    "        p1 , p2 = predict(i)\n",
    "        if (p1==p2):\n",
    "            kl=kl+1\n",
    "    print(\"Accuracy is now\",\"%0.2f\"%(100*(kl/500)),\" %\") "
   ]
  },
  {
   "cell_type": "code",
   "execution_count": 13,
   "metadata": {},
   "outputs": [],
   "source": [
    "def acc_model():\n",
    "    k=0\n",
    "    for i in range (55000,55500):\n",
    "        p1 , p2 = predict(i)\n",
    "        if (p1==p2):\n",
    "            k=k+1\n",
    "    print(\"Accuracy is now\",\"%0.2f\"%(100*(k/500)),\"%\")\n",
    "    return (100*(k/500))"
   ]
  },
  {
   "cell_type": "code",
   "execution_count": 14,
   "metadata": {},
   "outputs": [],
   "source": [
    "#To be modified for inputs\n",
    "def layer_1(x,f_1):\n",
    "    # x,shape (28,28)\n",
    "    i = 0\n",
    "    q = np.ones((12,12,5)) #To be generalized\n",
    "    for f in f_1:\n",
    "        q[:,:,i]  =  conv_made(x,f,2,2)\n",
    "        i += 1\n",
    "    return q"
   ]
  },
  {
   "cell_type": "code",
   "execution_count": 15,
   "metadata": {},
   "outputs": [],
   "source": [
    "#Fully connected\n",
    "def fc(q,w,jv):\n",
    "    #q(144,5)\n",
    "    temp = np.zeros((10,5))  #temp = scorefc\n",
    "    for i in range(5):\n",
    "        temp[:,i] = np.matmul(w[:,:,i],q[:,:,i].reshape(144))\n",
    "    scorefc = np.sum(temp,axis=1)\n",
    "    #scorefc = scorefc/((np.matmul(scorefc,scorefc))**0.5)  # Normalization\n",
    "    scorefc = scorefc/np.max(scorefc)\n",
    "    #print(scorefc)\n",
    "    loss.append(-np.log(np.exp(scorefc[jv])/np.sum(np.exp(scorefc))))\n",
    "    \n",
    "    return scorefc , loss  # , np.argmax(score)"
   ]
  },
  {
   "cell_type": "code",
   "execution_count": 16,
   "metadata": {},
   "outputs": [],
   "source": [
    "def parameter_update(w,f_1,q,x,jz,scorep,cn):\n",
    "    # jz is true label index\n",
    "    # x.shape (28,28)\n",
    "    if(jz!=8 and jz!=5):\n",
    "        lr = 0.0005 # Learning rate biased for 8 & 5\n",
    "    else:   \n",
    "        lr = 0.0002 \n",
    "    if(cn%2==0):\n",
    "        h = 0\n",
    "        ls = [0,2,4]\n",
    "        for k in ls: \n",
    "            for i in range(144):\n",
    "                w[jz,i,k] += lr*( q[:,:,k].reshape(144)[i] - ((q[:,:,k].reshape(144))[i]*np.exp(scorep[jz]))/np.exp(np.sum(scorep)))\n",
    "        for f in [f_1[0],f_1[2],f_1[4]]:\n",
    "            for qi in range(12):\n",
    "                for qj in range(12):\n",
    "                    for i in range(6):\n",
    "                        for p in range(6):\n",
    "                            #print((w[jz,:,h].reshape(12,12)).shape)\n",
    "                            w_e = (w[jz,:,h].reshape(12,12))[qi,qj]\n",
    "                            x_e = x[2*qi+i,qj*2+p] #Here 2 is stride\n",
    "                            f[i,p] += lr*(w_e*x_e - (w_e*x_e*np.exp(scorep[jz]))/np.exp(np.sum(scorep)) )\n",
    "        h +=2\n",
    "    else:\n",
    "        h = 1\n",
    "        ls = [1,3]\n",
    "        for k in ls: \n",
    "            for i in range(144):\n",
    "                w[jz,i,k] += lr*( q[:,:,k].reshape(144)[i] - ((q[:,:,k].reshape(144))[i]*np.exp(scorep[jz]))/np.exp(np.sum(scorep)))\n",
    "        for f in [f_1[1],f_1[3]]:\n",
    "            for qi in range(12):\n",
    "                for qj in range(12):\n",
    "                    for i in range(6):\n",
    "                        for p in range(6):\n",
    "                            #print((w[jz,:,h].reshape(12,12)).shape)\n",
    "                            w_e = (w[jz,:,h].reshape(12,12))[qi,qj]\n",
    "                            x_e = x[2*qi+i,qj*2+p]\n",
    "                            f[i,p] += lr*(w_e*x_e - (w_e*x_e*np.exp(scorep[jz]))/np.exp(np.sum(scorep)) )\n",
    "        h +=2                            \n",
    "    #f = f/np.max(f)\n",
    "    h +=1\n",
    "    cn = cn+1\n",
    "    return w  , f_1 ,cn\n"
   ]
  },
  {
   "cell_type": "code",
   "execution_count": 17,
   "metadata": {},
   "outputs": [
    {
     "name": "stdout",
     "output_type": "stream",
     "text": [
      "Epoch = 0\n",
      "Accuracy is now 13.20 %\n",
      "Epoch = 50\n",
      "Accuracy is now 15.60 %\n",
      "Epoch = 100\n",
      "Accuracy is now 15.20 %\n",
      "Epoch = 150\n",
      "Accuracy is now 17.80 %\n",
      "Epoch = 200\n",
      "Accuracy is now 16.60 %\n",
      "Epoch = 250\n",
      "Accuracy is now 22.40 %\n",
      "Epoch = 300\n",
      "Accuracy is now 28.40 %\n",
      "Epoch = 350\n",
      "Accuracy is now 30.20 %\n",
      "Epoch = 400\n",
      "Accuracy is now 30.80 %\n",
      "Epoch = 450\n",
      "Accuracy is now 36.40 %\n",
      "Epoch = 500\n",
      "Accuracy is now 42.80 %\n",
      "Epoch = 550\n",
      "Accuracy is now 48.00 %\n",
      "Epoch = 600\n",
      "Accuracy is now 41.60 %\n",
      "Epoch = 650\n",
      "Accuracy is now 49.00 %\n",
      "Epoch = 700\n",
      "Accuracy is now 52.00 %\n",
      "Epoch = 750\n",
      "Accuracy is now 53.40 %\n",
      "Epoch = 800\n",
      "Accuracy is now 45.60 %\n",
      "Epoch = 850\n",
      "Accuracy is now 56.80 %\n",
      "Epoch = 900\n",
      "Accuracy is now 60.20 %\n",
      "Epoch = 950\n",
      "Accuracy is now 58.60 %\n",
      "Epoch = 1000\n",
      "Accuracy is now 61.60 %\n",
      "Epoch = 1050\n",
      "Accuracy is now 62.40 %\n",
      "Epoch = 1100\n",
      "Accuracy is now 61.80 %\n",
      "Epoch = 1150\n",
      "Accuracy is now 57.60 %\n",
      "Epoch = 1200\n",
      "Accuracy is now 67.20 %\n",
      "Epoch = 1250\n",
      "Accuracy is now 66.20 %\n",
      "Epoch = 1300\n",
      "Accuracy is now 57.20 %\n",
      "Epoch = 1350\n",
      "Accuracy is now 49.60 %\n",
      "Epoch = 1400\n",
      "Accuracy is now 67.40 %\n",
      "Epoch = 1450\n",
      "Accuracy is now 70.60 %\n",
      "Epoch = 1500\n",
      "Accuracy is now 65.20 %\n",
      "Epoch = 1550\n",
      "Accuracy is now 66.40 %\n",
      "Epoch = 1600\n",
      "Accuracy is now 67.00 %\n",
      "Epoch = 1650\n",
      "Accuracy is now 64.40 %\n",
      "Epoch = 1700\n",
      "Accuracy is now 65.60 %\n",
      "Epoch = 1750\n",
      "Accuracy is now 70.20 %\n",
      "Epoch = 1800\n",
      "Accuracy is now 71.40 %\n",
      "Epoch = 1850\n",
      "Accuracy is now 61.00 %\n",
      "Epoch = 1900\n",
      "Accuracy is now 59.80 %\n",
      "Epoch = 1950\n",
      "Accuracy is now 68.80 %\n",
      "Epoch = 2000\n",
      "Accuracy is now 75.40 %\n",
      "Epoch = 2050\n",
      "Accuracy is now 81.40 %\n",
      "Epoch = 2100\n",
      "Accuracy is now 75.40 %\n",
      "Epoch = 2150\n",
      "Accuracy is now 69.40 %\n",
      "Epoch = 2200\n",
      "Accuracy is now 78.40 %\n",
      "Epoch = 2250\n",
      "Accuracy is now 75.80 %\n",
      "Epoch = 2300\n",
      "Accuracy is now 74.60 %\n",
      "Epoch = 2350\n",
      "Accuracy is now 74.20 %\n",
      "Epoch = 2400\n",
      "Accuracy is now 80.00 %\n",
      "Epoch = 2450\n",
      "Accuracy is now 72.40 %\n",
      "Epoch = 2500\n",
      "Accuracy is now 74.60 %\n",
      "Epoch = 2550\n",
      "Accuracy is now 79.20 %\n",
      "Epoch = 2600\n",
      "Accuracy is now 74.00 %\n",
      "Epoch = 2650\n",
      "Accuracy is now 74.80 %\n",
      "Epoch = 2700\n",
      "Accuracy is now 73.40 %\n",
      "Epoch = 2750\n",
      "Accuracy is now 73.20 %\n",
      "Epoch = 2800\n",
      "Accuracy is now 77.00 %\n",
      "Epoch = 2850\n",
      "Accuracy is now 79.40 %\n",
      "Epoch = 2900\n",
      "Accuracy is now 77.20 %\n",
      "Epoch = 2950\n",
      "Accuracy is now 79.40 %\n",
      "Epoch = 3000\n",
      "Accuracy is now 77.80 %\n",
      "Epoch = 3050\n",
      "Accuracy is now 72.40 %\n",
      "Epoch = 3100\n",
      "Accuracy is now 69.20 %\n",
      "Epoch = 3150\n",
      "Accuracy is now 81.60 %\n",
      "Epoch = 3200\n",
      "Accuracy is now 80.40 %\n",
      "Epoch = 3250\n",
      "Accuracy is now 76.40 %\n",
      "Epoch = 3300\n",
      "Accuracy is now 73.80 %\n",
      "Epoch = 3350\n",
      "Accuracy is now 73.00 %\n",
      "Epoch = 3400\n",
      "Accuracy is now 63.60 %\n",
      "Epoch = 3450\n",
      "Accuracy is now 80.60 %\n",
      "Epoch = 3500\n",
      "Accuracy is now 77.20 %\n",
      "Epoch = 3550\n",
      "Accuracy is now 81.40 %\n",
      "Epoch = 3600\n",
      "Accuracy is now 58.80 %\n",
      "Epoch = 3650\n",
      "Accuracy is now 74.80 %\n",
      "Epoch = 3700\n",
      "Accuracy is now 63.20 %\n",
      "Epoch = 3750\n",
      "Accuracy is now 70.80 %\n",
      "Epoch = 3800\n",
      "Accuracy is now 65.60 %\n",
      "Epoch = 3850\n",
      "Accuracy is now 74.60 %\n",
      "Epoch = 3900\n",
      "Accuracy is now 64.80 %\n",
      "Epoch = 3950\n",
      "Accuracy is now 61.00 %\n",
      "Epoch = 4000\n",
      "Accuracy is now 61.20 %\n",
      "Epoch = 4050\n",
      "Accuracy is now 65.80 %\n",
      "Epoch = 4100\n",
      "Accuracy is now 65.60 %\n",
      "Epoch = 4150\n",
      "Accuracy is now 74.80 %\n",
      "Epoch = 4200\n",
      "Accuracy is now 62.40 %\n",
      "Epoch = 4250\n",
      "Accuracy is now 75.00 %\n",
      "Epoch = 4300\n",
      "Accuracy is now 77.20 %\n",
      "Epoch = 4350\n",
      "Accuracy is now 73.60 %\n",
      "Epoch = 4400\n",
      "Accuracy is now 71.20 %\n",
      "Epoch = 4450\n",
      "Accuracy is now 74.60 %\n",
      "Epoch = 4500\n",
      "Accuracy is now 64.80 %\n",
      "Epoch = 4550\n",
      "Accuracy is now 77.40 %\n",
      "Epoch = 4600\n",
      "Accuracy is now 72.40 %\n",
      "Epoch = 4650\n",
      "Accuracy is now 69.80 %\n",
      "Epoch = 4700\n",
      "Accuracy is now 68.80 %\n",
      "Epoch = 4750\n",
      "Accuracy is now 80.00 %\n",
      "Epoch = 4800\n",
      "Accuracy is now 78.00 %\n",
      "Epoch = 4850\n",
      "Accuracy is now 82.60 %\n",
      "Epoch = 4900\n",
      "Accuracy is now 78.20 %\n",
      "Epoch = 4950\n",
      "Accuracy is now 81.00 %\n"
     ]
    }
   ],
   "source": [
    "epochs = 5000\n",
    "loss = []\n",
    "acc_list = []\n",
    "count = 0\n",
    "epoch_50 = 0\n",
    "for i in range(epochs):\n",
    "    x = x_data_Scaled[:,i]  # Took ith sample\n",
    "    y = y_label[:,i]        # Took true label column of ith sample\n",
    "    \n",
    "    jz = np.argmax(y)  #True Label        \n",
    "    q_ = layer_1(x.reshape(28,28),f_1)\n",
    "    score , loss = fc(q_,w,jz)  # , y_predic\n",
    "    #backpropagation\n",
    "    jp , jz = predict(i)\n",
    "    if(jp!=jz):\n",
    "        w , f_1 , count = parameter_update(w,f_1,q_,x.reshape(28,28),jz,score,count)\n",
    "        #alz Learning Threshold\n",
    "    if(i%50==0):\n",
    "        print(\"Epoch = \"+ str(i))#,\"accuracy=\",(lm*100)/(i+1) \n",
    "        acp = acc_model()\n",
    "        acc_list.append(acp)\n",
    "        epoch_50 += 1"
   ]
  },
  {
   "cell_type": "code",
   "execution_count": 18,
   "metadata": {},
   "outputs": [
    {
     "data": {
      "text/plain": [
       "Text(0,0.5,'Accuracy')"
      ]
     },
     "execution_count": 18,
     "metadata": {},
     "output_type": "execute_result"
    },
    {
     "data": {
      "image/png": "[encoded data removed]",
      "text/plain": [
       "<Figure size 432x288 with 1 Axes>"
      ]
     },
     "metadata": {},
     "output_type": "display_data"
    }
   ],
   "source": [
    "plt.plot(list(range(epoch_50)),acc_list) # 50 epoch counting variable\n",
    "plt.xlabel(\"x50 Iterations\")\n",
    "plt.ylabel(\"Accuracy\")"
   ]
  },
  {
   "cell_type": "code",
   "execution_count": 19,
   "metadata": {},
   "outputs": [
    {
     "name": "stdout",
     "output_type": "stream",
     "text": [
      "Accuracy is now 76.00  %\n"
     ]
    }
   ],
   "source": [
    "accuracy()"
   ]
  },
  {
   "cell_type": "code",
   "execution_count": 20,
   "metadata": {},
   "outputs": [
    {
     "name": "stdout",
     "output_type": "stream",
     "text": [
      "468\n",
      "True\n",
      "7 7\n"
     ]
    },
    {
     "data": {
      "text/plain": [
       "<matplotlib.image.AxesImage at 0x1a210f63780>"
      ]
     },
     "execution_count": 20,
     "metadata": {},
     "output_type": "execute_result"
    },
    {
     "data": {
      "image/png": "[encoded data removed]",
      "text/plain": [
       "<Figure size 432x288 with 1 Axes>"
      ]
     },
     "metadata": {},
     "output_type": "display_data"
    }
   ],
   "source": [
    "c = int(input())\n",
    "zx,zy = predict(c)\n",
    "if (zx==zy):\n",
    "    print(\"True\")\n",
    "else:\n",
    "    print(\"False\")\n",
    "print(zx,zy)\n",
    "plt.imshow(x_data_Scaled[:,c].reshape((28,28)),cmap='gray')"
   ]
  },
  {
   "cell_type": "code",
   "execution_count": 22,
   "metadata": {},
   "outputs": [
    {
     "name": "stdout",
     "output_type": "stream",
     "text": [
      "Weight 0-9: 5\n",
      "Enter slice 0-4: 2\n"
     ]
    },
    {
     "data": {
      "text/plain": [
       "<matplotlib.image.AxesImage at 0x1a21102f940>"
      ]
     },
     "execution_count": 22,
     "metadata": {},
     "output_type": "execute_result"
    },
    {
     "data": {
      "image/png": "[encoded data removed]",
      "text/plain": [
       "<Figure size 432x288 with 1 Axes>"
      ]
     },
     "metadata": {},
     "output_type": "display_data"
    }
   ],
   "source": [
    "#To Visualize Weight Matrix of FC layer\n",
    "sa = int(input(\"Weight 0-9: \"))\n",
    "ss = int(input(\"Enter slice 0-4: \"))\n",
    "plt.imshow(w[sa,:,ss].reshape(12,12),cmap='gray')"
   ]
  },
  {
   "cell_type": "code",
   "execution_count": 23,
   "metadata": {
    "scrolled": true
   },
   "outputs": [
    {
     "data": {
      "text/plain": [
       "<matplotlib.image.AxesImage at 0x1a210fbff98>"
      ]
     },
     "execution_count": 23,
     "metadata": {},
     "output_type": "execute_result"
    },
    {
     "data": {
      "image/png": "[encoded data removed]",
      "text/plain": [
       "<Figure size 432x288 with 1 Axes>"
      ]
     },
     "metadata": {},
     "output_type": "display_data"
    }
   ],
   "source": [
    "plt.imshow(f_1_1,cmap='gray')"
   ]
  },
  {
   "cell_type": "code",
   "execution_count": 24,
   "metadata": {},
   "outputs": [
    {
     "data": {
      "text/plain": [
       "<matplotlib.image.AxesImage at 0x1a210ff6a58>"
      ]
     },
     "execution_count": 24,
     "metadata": {},
     "output_type": "execute_result"
    },
    {
     "data": {
      "image/png": "[encoded data removed]",
      "text/plain": [
       "<Figure size 432x288 with 1 Axes>"
      ]
     },
     "metadata": {},
     "output_type": "display_data"
    }
   ],
   "source": [
    "plt.imshow(f_1_3,cmap='gray')"
   ]
  }
 ],
 "metadata": {
  "kernelspec": {
   "display_name": "Python 3",
   "language": "python",
   "name": "python3"
  },
  "language_info": {
   "codemirror_mode": {
    "name": "ipython",
    "version": 3
   },
   "file_extension": ".py",
   "mimetype": "text/x-python",
   "name": "python",
   "nbconvert_exporter": "python",
   "pygments_lexer": "ipython3",
   "version": "3.5.5"
  }
 },
 "nbformat": 4,
 "nbformat_minor": 2
}
